{
 "cells": [
  {
   "cell_type": "code",
   "execution_count": 1,
   "metadata": {},
   "outputs": [],
   "source": [
    "import jax\n",
    "import jax.numpy as jnp\n",
    "import jax.random as random\n",
    "\n",
    "from aevb.config import Config\n",
    "from aevb.nets_flax import FlaxMLPEncoder, FlaxMLPDecoder\n",
    "from aevb.nets_eqx import EqxMLPEncoder, EqxMLPDecoder"
   ]
  },
  {
   "cell_type": "code",
   "execution_count": 2,
   "metadata": {},
   "outputs": [
    {
     "name": "stdout",
     "output_type": "stream",
     "text": [
      "\n",
      "Config:\n",
      "seed:            0            (int)\n",
      "dataset:                      (str)\n",
      "nnlib:           flax         (str)\n",
      "jax.gpus:        [0]          (ints)\n",
      "run.steps:       10000        (int)\n",
      "run.eval_every:  100          (int)\n",
      "data_shape:      [28, 28]     (ints)\n",
      "latent_dim:      4            (int)\n",
      "gen_hidden:      [128, 784]   (ints)\n",
      "rec_hidden:      [128, 64]    (ints)\n",
      "act:             relu         (str)\n",
      "init.init:       normal       (str)\n",
      "init.params:     [0.0, 0.01]  (floats)\n",
      "opt.opt:         adagrad      (str)\n",
      "opt.lr:          0.1          (float)\n"
     ]
    }
   ],
   "source": [
    "config = Config.from_yaml('./configs.yaml', override=[\"mnist\", \"small\"])\n",
    "config.prettyprint()"
   ]
  },
  {
   "cell_type": "code",
   "execution_count": 4,
   "metadata": {},
   "outputs": [
    {
     "name": "stdout",
     "output_type": "stream",
     "text": [
      "passed\n"
     ]
    }
   ],
   "source": [
    "from typing import Iterable\n",
    "from math import prod\n",
    "\n",
    "\n",
    "activations = {\n",
    "    \"relu\": jax.nn.relu\n",
    "}\n",
    "\n",
    "\n",
    "# FLAX\n",
    "\n",
    "def gen_rec_flax_mlps(config):\n",
    "    data_shape = config['data_shape']\n",
    "    if isinstance(data_shape, Iterable):\n",
    "        out_dim = prod(data_shape)\n",
    "    else:\n",
    "        out_dim = data_shape\n",
    "\n",
    "    latent_dim = config['latent_dim']\n",
    "    activation = activations[config['act']]\n",
    "    \n",
    "    gen_hidden = config['gen_hidden']\n",
    "    rec_hidden = config['rec_hidden']\n",
    "    \n",
    "    gen_model = FlaxMLPDecoder(out_dim, gen_hidden, activation)\n",
    "    rec_model = FlaxMLPEncoder(latent_dim, rec_hidden, activation)\n",
    "    return gen_model, rec_model\n",
    "\n",
    "gen_model, rec_model = gen_rec_flax_mlps(config)\n",
    "\n",
    "x = jnp.ones((1, 784))\n",
    "rec_params = rec_model.init(random.key(1), x)\n",
    "rec_model.apply(rec_params, x)\n",
    "\n",
    "z = jnp.ones((1, config['latent_dim']))\n",
    "gen_params = gen_model.init(random.key(1), z)\n",
    "gen_model.apply(gen_params, z)\n",
    "\n",
    "\n",
    "# EQUINOX\n",
    "\n",
    "def gen_rec_eqx_mlps(config):\n",
    "    data_shape = config['data_shape']\n",
    "\n",
    "    if isinstance(data_shape, Iterable):\n",
    "        data_dim = prod(data_shape)\n",
    "        in_dim, out_dim = [data_dim] * 2\n",
    "    else:\n",
    "        in_dim, out_dim = [data_shape] * 2\n",
    "\n",
    "    latent_dim = config['latent_dim']\n",
    "    activation = activations[config['act']]\n",
    "    \n",
    "    gen_hidden = config['gen_hidden']\n",
    "    rec_hidden = config['rec_hidden']\n",
    "\n",
    "    gen_model = EqxMLPDecoder(out_dim, latent_dim, gen_hidden, activation)\n",
    "    rec_model = EqxMLPEncoder(in_dim, latent_dim, rec_hidden, activation)\n",
    "    \n",
    "    return gen_model, rec_model\n",
    "\n",
    "\n",
    "gen_model, rec_model = gen_rec_eqx_mlps(config)\n",
    "rec_model(random.key(1), x)\n",
    "gen_model(random.key(1), z)\n",
    "print('passed')\n"
   ]
  }
 ],
 "metadata": {
  "kernelspec": {
   "display_name": ".venv",
   "language": "python",
   "name": "python3"
  },
  "language_info": {
   "codemirror_mode": {
    "name": "ipython",
    "version": 3
   },
   "file_extension": ".py",
   "mimetype": "text/x-python",
   "name": "python",
   "nbconvert_exporter": "python",
   "pygments_lexer": "ipython3",
   "version": "3.11.7"
  }
 },
 "nbformat": 4,
 "nbformat_minor": 2
}
