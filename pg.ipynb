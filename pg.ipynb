{
 "cells": [
  {
   "cell_type": "code",
   "execution_count": 1,
   "metadata": {},
   "outputs": [],
   "source": [
    "import jax\n",
    "import jax.numpy as jnp\n",
    "\n",
    "from jax.random import PRNGKey, split\n",
    "\n",
    "import core"
   ]
  },
  {
   "cell_type": "code",
   "execution_count": 2,
   "metadata": {},
   "outputs": [
    {
     "data": {
      "text/plain": [
       "{'b': Array([[0.1337474]], dtype=float32),\n",
       " 'w': Array([[-2.237772  , -0.42406374]], dtype=float32)}"
      ]
     },
     "execution_count": 2,
     "metadata": {},
     "output_type": "execute_result"
    }
   ],
   "source": [
    "rng_key = PRNGKey(123)\n",
    "\n",
    "mu = {\"w\": jnp.array([1., 2.]), \"b\": jnp.array([3.])}\n",
    "\n",
    "\n",
    "rng_key, subkey = split(rng_key)\n",
    "core._normal_like_tree(subkey, mu, 1)"
   ]
  },
  {
   "cell_type": "code",
   "execution_count": 3,
   "metadata": {},
   "outputs": [
    {
     "data": {
      "text/plain": [
       "Array([1896456402,   17229315], dtype=uint32)"
      ]
     },
     "execution_count": 3,
     "metadata": {},
     "output_type": "execute_result"
    }
   ],
   "source": [
    "rng_key"
   ]
  },
  {
   "cell_type": "code",
   "execution_count": 4,
   "metadata": {},
   "outputs": [
    {
     "data": {
      "text/plain": [
       "{'b': Array([[1.931153 ],\n",
       "        [6.2433405],\n",
       "        [3.8999171],\n",
       "        [3.1583545],\n",
       "        [6.9233885]], dtype=float32),\n",
       " 'w': Array([[2.3588188 , 4.5807    ],\n",
       "        [0.5029077 , 2.183478  ],\n",
       "        [0.03627574, 2.8246713 ],\n",
       "        [0.8256731 , 3.9519176 ],\n",
       "        [2.2091131 , 4.451002  ]], dtype=float32)}"
      ]
     },
     "execution_count": 4,
     "metadata": {},
     "output_type": "execute_result"
    }
   ],
   "source": [
    "core._reparameterized_sample_loc_scale(rng_key, loc=mu, scale=mu, n_samples=5)"
   ]
  },
  {
   "cell_type": "code",
   "execution_count": null,
   "metadata": {},
   "outputs": [],
   "source": []
  }
 ],
 "metadata": {
  "kernelspec": {
   "display_name": ".venv",
   "language": "python",
   "name": "python3"
  },
  "language_info": {
   "codemirror_mode": {
    "name": "ipython",
    "version": 3
   },
   "file_extension": ".py",
   "mimetype": "text/x-python",
   "name": "python",
   "nbconvert_exporter": "python",
   "pygments_lexer": "ipython3",
   "version": "3.10.10"
  }
 },
 "nbformat": 4,
 "nbformat_minor": 2
}
