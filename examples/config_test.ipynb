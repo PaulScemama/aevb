{
 "cells": [
  {
   "cell_type": "code",
   "execution_count": 3,
   "metadata": {},
   "outputs": [],
   "source": [
    "from aevb.config import Config\n",
    "from aevb.nets_flax import FlaxMLP"
   ]
  },
  {
   "cell_type": "code",
   "execution_count": 2,
   "metadata": {},
   "outputs": [
    {
     "name": "stdout",
     "output_type": "stream",
     "text": [
      "\n",
      "Config:\n",
      "seed:            0            (int)\n",
      "dataset:                      (str)\n",
      "jax.gpus:        [0]          (ints)\n",
      "run.steps:       10000        (int)\n",
      "run.eval_every:  100          (int)\n",
      "latent_dim:      4            (int)\n",
      "gen_hidden:      [128, 784]   (ints)\n",
      "rec_hidden:      [128, 64]    (ints)\n",
      "act:             relu         (str)\n",
      "init.init:       normal       (str)\n",
      "init.params:     [0.0, 0.01]  (floats)\n",
      "opt.opt:         adagrad      (str)\n",
      "opt.lr:          0.1          (float)\n"
     ]
    }
   ],
   "source": [
    "config = Config.from_yaml('./configs.yaml', override=[\"mnist\", \"small\"])\n",
    "config.prettyprint()"
   ]
  },
  {
   "cell_type": "code",
   "execution_count": 6,
   "metadata": {},
   "outputs": [
    {
     "data": {
      "text/plain": [
       "FlaxMLP(\n",
       "    # attributes\n",
       "    hidden = (128, 784)\n",
       "    activation = 'relu'\n",
       ")"
      ]
     },
     "execution_count": 6,
     "metadata": {},
     "output_type": "execute_result"
    }
   ],
   "source": [
    "config['gen_hidden']\n",
    "\n",
    "FlaxMLP(config['gen_hidden'], activation=config['act'])"
   ]
  },
  {
   "cell_type": "code",
   "execution_count": null,
   "metadata": {},
   "outputs": [],
   "source": []
  }
 ],
 "metadata": {
  "kernelspec": {
   "display_name": ".venv",
   "language": "python",
   "name": "python3"
  },
  "language_info": {
   "codemirror_mode": {
    "name": "ipython",
    "version": 3
   },
   "file_extension": ".py",
   "mimetype": "text/x-python",
   "name": "python",
   "nbconvert_exporter": "python",
   "pygments_lexer": "ipython3",
   "version": "3.11.7"
  }
 },
 "nbformat": 4,
 "nbformat_minor": 2
}
