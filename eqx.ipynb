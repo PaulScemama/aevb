{
 "cells": [
  {
   "cell_type": "code",
   "execution_count": 1,
   "metadata": {},
   "outputs": [
    {
     "name": "stderr",
     "output_type": "stream",
     "text": [
      "/home/pscemama/aevb/.venv/lib/python3.11/site-packages/tqdm/auto.py:21: TqdmWarning: IProgress not found. Please update jupyter and ipywidgets. See https://ipywidgets.readthedocs.io/en/stable/user_install.html\n",
      "  from .autonotebook import tqdm as notebook_tqdm\n"
     ]
    }
   ],
   "source": [
    "import equinox as eqx\n",
    "import jax\n",
    "import jax.numpy as jnp\n",
    "import jax.random as random\n",
    "import matplotlib.pyplot as plt\n",
    "import numpy as np\n",
    "import optax\n",
    "from datasets import load_dataset\n",
    "from jax.random import PRNGKey, split\n",
    "\n",
    "from aevb.core import AEVB\n"
   ]
  },
  {
   "cell_type": "code",
   "execution_count": null,
   "metadata": {},
   "outputs": [],
   "source": [
    "eqx.Mo"
   ]
  },
  {
   "cell_type": "code",
   "execution_count": 11,
   "metadata": {},
   "outputs": [],
   "source": [
    "@eqx.nn.make_with_state\n",
    "class RecModel(eqx.Module):\n",
    "\n",
    "    latent_dim: int\n",
    "    layers: list\n",
    "    projection_layers: list\n",
    "\n",
    "    def __init__(self, key: PRNGKey, latent_dim: int):\n",
    "\n",
    "        keys = random.split(key, 6)\n",
    "        self.latent_dim = latent_dim\n",
    "\n",
    "        self.layers = [\n",
    "            eqx.nn.Linear(in_features=784, out_features=512, key=keys[0]),\n",
    "            eqx.nn.BatchNorm(input_size=512, axis_name=\"batch\"),\n",
    "            jax.nn.relu,\n",
    "            eqx.nn.Linear(in_features=512, out_features=256, key=keys[1]),\n",
    "            jax.nn.relu,\n",
    "            eqx.nn.Linear(in_features=256, out_features=128, key=keys[2]),\n",
    "            jax.nn.relu,\n",
    "            eqx.nn.Linear(in_features=128, out_features=64, key=keys[3]),\n",
    "        ]\n",
    "        self.projection_layers = [\n",
    "            eqx.nn.Linear(in_features=64, out_features=self.latent_dim, key=keys[4]),\n",
    "            eqx.nn.Linear(in_features=64, out_features=self.latent_dim, key=keys[5]),\n",
    "        ]\n",
    "\n",
    "    def __call__(self, x, state):\n",
    "        for layer in self.layers:\n",
    "            if isinstance(layer, eqx.nn._batch_norm.BatchNorm):\n",
    "                x, state = layer(x, state)\n",
    "            else:\n",
    "                x = layer(x)\n",
    "\n",
    "        mu = self.projection_layers[0](x)\n",
    "        logvar = self.projection_layers[1](x)\n",
    "        sigma = jnp.exp(logvar * 0.5)\n",
    "        return (mu, sigma), state"
   ]
  },
  {
   "cell_type": "code",
   "execution_count": 12,
   "metadata": {},
   "outputs": [
    {
     "data": {
      "text/plain": [
       "dict_keys(['latent_dim', 'layers', 'projection_layers'])"
      ]
     },
     "execution_count": 12,
     "metadata": {},
     "output_type": "execute_result"
    }
   ],
   "source": [
    "model = RecModel(random.key(0), 4)\n",
    "\n",
    "\n",
    "_model, _ = model\n",
    "_model.__annotations__.keys()"
   ]
  },
  {
   "cell_type": "code",
   "execution_count": 13,
   "metadata": {},
   "outputs": [
    {
     "data": {
      "text/plain": [
       "(__main__.RecModel, equinox.nn._stateful.State)"
      ]
     },
     "execution_count": 13,
     "metadata": {},
     "output_type": "execute_result"
    }
   ],
   "source": [
    "type(model[0]), type(model[1])"
   ]
  },
  {
   "cell_type": "code",
   "execution_count": null,
   "metadata": {},
   "outputs": [],
   "source": []
  }
 ],
 "metadata": {
  "kernelspec": {
   "display_name": ".venv",
   "language": "python",
   "name": "python3"
  },
  "language_info": {
   "codemirror_mode": {
    "name": "ipython",
    "version": 3
   },
   "file_extension": ".py",
   "mimetype": "text/x-python",
   "name": "python",
   "nbconvert_exporter": "python",
   "pygments_lexer": "ipython3",
   "version": "3.11.7"
  }
 },
 "nbformat": 4,
 "nbformat_minor": 2
}
