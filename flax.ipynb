{
 "cells": [
  {
   "cell_type": "code",
   "execution_count": 1,
   "metadata": {},
   "outputs": [],
   "source": [
    "from typing import Callable\n",
    "\n",
    "import flax.linen as nn\n",
    "import jax.numpy as jnp\n",
    "import jax.random as random\n",
    "\n",
    "from aevb.core import AEVB"
   ]
  },
  {
   "cell_type": "code",
   "execution_count": 2,
   "metadata": {},
   "outputs": [],
   "source": [
    "# Generative Model and Recognition Feature Extractor --------------------\n",
    "class GenModel(nn.Module):\n",
    "    @nn.compact\n",
    "    def __call__(self, x, train: bool = False):\n",
    "        x = nn.Dense(features=128)(x)\n",
    "        x = nn.BatchNorm(use_running_average=not train)(x)\n",
    "        x = nn.relu(x)\n",
    "        x = nn.Dense(features=256)(x)\n",
    "        x = nn.relu(x)\n",
    "        x = nn.Dense(784)(x)\n",
    "        return x\n",
    "\n",
    "\n",
    "class RecModel(nn.Module):\n",
    "    latent_dim: int\n",
    "\n",
    "    @nn.compact\n",
    "    def __call__(self, x, train: bool = False):\n",
    "        x = nn.Dense(features=512)(x)\n",
    "        x = nn.BatchNorm(use_running_average=not train)(x)\n",
    "        x = nn.relu(x)\n",
    "        x = nn.Dense(features=256)(x)\n",
    "        x = nn.relu(x)\n",
    "        x = nn.Dense(features=128)(x)\n",
    "        x = nn.relu(x)\n",
    "        x = nn.Dense(features=64)(x)\n",
    "        mu = nn.Dense(features=self.latent_dim)(x)\n",
    "        logvar = nn.Dense(features=self.latent_dim)(x)\n",
    "        sigma = jnp.exp(logvar * 0.5)\n",
    "        return mu, sigma"
   ]
  },
  {
   "cell_type": "code",
   "execution_count": 3,
   "metadata": {},
   "outputs": [],
   "source": [
    "# Create AEVB inference engine\n",
    "latent_dim = 4\n",
    "gen_model = GenModel()\n",
    "rec_model = RecModel(latent_dim)\n",
    "import optax\n",
    "optimizer = optax.adam(1e-3)\n",
    "\n",
    "engine = AEVB(\n",
    "    latent_dim=latent_dim,\n",
    "    generative_model=gen_model,\n",
    "    recognition_model=rec_model,\n",
    "    optimizer=optimizer,\n",
    "    n_samples=15,\n",
    "    nn_lib=\"flax\",\n",
    ")"
   ]
  }
 ],
 "metadata": {
  "kernelspec": {
   "display_name": ".venv",
   "language": "python",
   "name": "python3"
  },
  "language_info": {
   "codemirror_mode": {
    "name": "ipython",
    "version": 3
   },
   "file_extension": ".py",
   "mimetype": "text/x-python",
   "name": "python",
   "nbconvert_exporter": "python",
   "pygments_lexer": "ipython3",
   "version": "3.11.7"
  }
 },
 "nbformat": 4,
 "nbformat_minor": 2
}
